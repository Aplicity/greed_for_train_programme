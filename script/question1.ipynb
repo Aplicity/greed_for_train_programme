{
 "cells": [
  {
   "cell_type": "code",
   "execution_count": 90,
   "metadata": {},
   "outputs": [],
   "source": [
    "import numpy as np\n",
    "import pandas as pd"
   ]
  },
  {
   "cell_type": "code",
   "execution_count": 91,
   "metadata": {},
   "outputs": [],
   "source": [
    "n_car = 12 * 60 // 15  ## 12小时共需检修 48 量机车\n",
    "\n",
    "n_workshop_A = 3    # 工序a车间数\n",
    "n_workshop_B = 8    # 工序b车间数\n",
    "n_workshop_C = 5    # 工序c车间数\n",
    "\n",
    "time_cost_A = 4     ## 4*15 分钟\n",
    "time_cost_B = 8     ## 8*15 分钟\n",
    "time_cost_C = 6     ## 6*15 分钟\n",
    "\n",
    "## 本问中所有工序时间以 15分钟为一单位\n",
    "M = 1000  ## 任意足够大的时间数，作遍历用\n",
    "\n",
    "input_times = dict() ## 创建一个字典，表示在车间足够多的情况下，动车的进入时间\n",
    "for i in range(n_car):\n",
    "    input_times[i] = 1 ## 1表示改时间点有动车进入"
   ]
  },
  {
   "cell_type": "markdown",
   "metadata": {},
   "source": [
    "## 工序A"
   ]
  },
  {
   "cell_type": "code",
   "execution_count": 92,
   "metadata": {},
   "outputs": [],
   "source": [
    "is_finish_A = np.zeros( n_car , dtype = int) # 记录所有动车的工艺完成状态，1为已完成，0为未完成\n",
    "is_work_A = np.zeros(shape = ( M , n_workshop_A), dtype = int)  ## 记录车间 [a1 ; a2 ; a3] 三个车间每单位时间的工作状态。1为工作，0为空闲\n",
    "\n",
    "input_time_record = []   ## 记录每个动车开始工序的时间\n",
    "output_time_record = []  ## 记录每个动车完成工序的时间\n",
    "workshop_ind_record = [] ## 按顺序记录每次检修动车的车间编号\n",
    "\n",
    "n_arrival_car = 0  ## 初始化检修完的车辆数\n",
    "\n",
    "for time in range(M):\n",
    "    num_work_A = is_work_A[time].sum()  ## 当前时间车间的运作数量\n",
    "    num_finish_A = is_finish_A.sum()      ## 已经发出的机车数量\n",
    "    if num_work_A == 0 and num_finish_A == n_car: ## 工艺完成\n",
    "        break\n",
    "    else:\n",
    "        if num_work_A < n_workshop_A and time in input_times:## 有空闲车间 且 有新车进\n",
    "            free_id = np.where(is_work_A[time] == 0)[0][0]\n",
    "            is_work_A[time: time + time_cost_A, free_id] = 1\n",
    "            is_finish_A[n_arrival_car] = 1\n",
    "            n_arrival_car += 1\n",
    "            #print( time ,free_id )\n",
    "            output_time_record.append(time + time_cost_A)\n",
    "            input_time_record.append(time)\n",
    "            workshop_ind_record.append(free_id)\n",
    "        \n",
    "        if num_work_A == n_workshop_A and time in input_times :## 无空闲车间 且 有新车进，则推迟新车进来  \n",
    "            flag_input = False\n",
    "            for k in range(10000):\n",
    "                if time + k not in input_times:\n",
    "                    input_times[time + k] = 1\n",
    "                    break\n",
    "            \n",
    "\n",
    "df_A = pd.DataFrame({'进站时间': input_time_record,\n",
    "                     '出站时间': output_time_record,\n",
    "                     '检修车间编号':workshop_ind_record})\n",
    "\n",
    "df_A = df_A[[ '进站时间','出站时间','检修车间编号']]\n",
    "\n",
    "df_A['检测耗时(分钟)'] = df_A['出站时间'] - df_A['进站时间']\n",
    "\n",
    "df_A['检修车间编号(展示)'] = df_A['检修车间编号'] + 1\n",
    "#df_A.to_csv('render.csv', encoding = 'gbk' , index = None)"
   ]
  },
  {
   "cell_type": "markdown",
   "metadata": {},
   "source": [
    "## 工序B"
   ]
  },
  {
   "cell_type": "code",
   "execution_count": 93,
   "metadata": {},
   "outputs": [],
   "source": [
    "input_times = dict() ## 完成上一道工序后的出站时间为下一道工序的紧张时间\n",
    "for output_time in df_A['出站时间']:\n",
    "    input_times[output_time] = 1 ## 1表示改时间点有动车进入\n",
    "\n",
    "is_finish_B = np.zeros( n_car , dtype = int) # 记录所有动车的工艺完成状态，1为已完成，0为未完成\n",
    "is_work_B = np.zeros(shape = ( M , n_workshop_B), dtype = int)  ## 记录车间每单位时间的工作状态。1为工作，0为空闲\n",
    "\n",
    "input_time_record = []   ## 记录每个动车开始工序的时间\n",
    "output_time_record = []  ## 记录每个动车完成工序的时间\n",
    "workshop_ind_record = [] ## 按顺序记录每次检修动车的车间编号\n",
    "\n",
    "n_arrival_car = 0  ## 初始化检修完的车辆数\n",
    "\n",
    "for time in range(M):\n",
    "    num_work_B = is_work_B[time].sum()  ## 当前时间车间的运作数量\n",
    "    num_finish_B = is_finish_B.sum()      ## 已经发出的机车数量\n",
    "    if num_work_B == 0 and num_finish_B == n_car: ## 工艺完成\n",
    "        break\n",
    "    else:\n",
    "        if num_work_B < n_workshop_B and time in input_times:## 有空闲车间 且 有新车进\n",
    "            free_id = np.where(is_work_B[time] == 0)[0][0]\n",
    "            is_work_B[time: time + time_cost_B, free_id] = 1\n",
    "            is_finish_B[n_arrival_car] = 1\n",
    "            n_arrival_car += 1\n",
    "            #print( time ,free_id )\n",
    "            output_time_record.append(time + time_cost_B)\n",
    "            input_time_record.append(time)\n",
    "            workshop_ind_record.append(free_id)\n",
    "        \n",
    "        if num_work_B == n_workshop_B and time in input_times :## 无空闲车间 且 有新车进，则推迟新车进来  \n",
    "            flag_input = False\n",
    "            for k in range(10000):\n",
    "                if time + k not in input_times:\n",
    "                    input_times[time + k] = 1\n",
    "                    break\n",
    "            \n",
    "\n",
    "df_B = pd.DataFrame({'进站时间': input_time_record,\n",
    "                     '出站时间': output_time_record,\n",
    "                     '检修车间编号':workshop_ind_record})\n",
    "\n",
    "df_B = df_B[[ '进站时间','出站时间','检修车间编号']]\n",
    "\n",
    "df_B['检测耗时(分钟)'] = df_B['出站时间'] - df_B['进站时间']\n",
    "\n",
    "df_B['检修车间编号(展示)'] = df_B['检修车间编号'] + 1\n",
    "#df_B.to_csv('render.csv', encoding = 'gbk' , index = None)"
   ]
  },
  {
   "cell_type": "markdown",
   "metadata": {},
   "source": [
    "## 工序C"
   ]
  },
  {
   "cell_type": "code",
   "execution_count": 98,
   "metadata": {},
   "outputs": [],
   "source": [
    "input_times = dict() ## 完成上一道工序后的出站时间为下一道工序的紧张时间\n",
    "for output_time in df_B['出站时间']:\n",
    "    input_times[output_time] = 1 ## 1表示改时间点有动车进入\n",
    "\n",
    "is_finish_C = np.zeros( n_car , dtype = int) # 记录所有动车的工艺完成状态，1为已完成，0为未完成\n",
    "is_work_C = np.zeros(shape = ( M , n_workshop_C), dtype = int)  ## 记录车间每单位时间的工作状态。1为工作，0为空闲\n",
    "\n",
    "input_time_record = []   ## 记录每个动车开始工序的时间\n",
    "output_time_record = []  ## 记录每个动车完成工序的时间\n",
    "workshop_ind_record = [] ## 按顺序记录每次检修动车的车间编号\n",
    "\n",
    "n_arrival_car = 0  ## 初始化检修完的车辆数\n",
    "\n",
    "for time in range(M):\n",
    "    num_work_C = is_work_C[time].sum()  ## 当前时间车间的运作数量\n",
    "    num_finish_C = is_finish_C.sum()      ## 已经发出的机车数量\n",
    "    if num_work_C == 0 and num_finish_C == n_car: ## 工艺完成\n",
    "        break\n",
    "    else:\n",
    "        if num_work_C < n_workshop_C and time in input_times:## 有空闲车间 且 有新车进\n",
    "            free_id = np.where(is_work_C[time] == 0)[0][0]\n",
    "            is_work_C[time: time + time_cost_C, free_id] = 1\n",
    "            is_finish_C[n_arrival_car] = 1\n",
    "            n_arrival_car += 1\n",
    "            #print( time ,free_id )\n",
    "            output_time_record.append(time + time_cost_C)\n",
    "            input_time_record.append(time)\n",
    "            workshop_ind_record.append(free_id)\n",
    "        \n",
    "        if num_work_C == n_workshop_C and time in input_times :## 无空闲车间 且 有新车进，则推迟新车进来  \n",
    "            flag_input = False\n",
    "            for k in range(10000):\n",
    "                if time + k not in input_times:\n",
    "                    input_times[time + k] = 1\n",
    "                    break\n",
    "            \n",
    "\n",
    "df_C = pd.DataFrame({'进站时间': input_time_record,\n",
    "                     '出站时间': output_time_record,\n",
    "                     '检修车间编号':workshop_ind_record})\n",
    "\n",
    "df_C = df_C[[ '进站时间','出站时间','检修车间编号']]\n",
    "\n",
    "df_C['检测耗时(分钟)'] = df_C['出站时间'] - df_C['进站时间']\n",
    "\n",
    "df_C['检修车间编号(展示)'] = df_C['检修车间编号'] + 1\n",
    "#df_C.to_csv('render.csv', encoding = 'gbk' , index = None)"
   ]
  },
  {
   "cell_type": "markdown",
   "metadata": {},
   "source": [
    "### 计算总耗时"
   ]
  },
  {
   "cell_type": "code",
   "execution_count": 105,
   "metadata": {},
   "outputs": [
    {
     "data": {
      "text/plain": [
       "20.0"
      ]
     },
     "execution_count": 105,
     "metadata": {},
     "output_type": "execute_result"
    }
   ],
   "source": [
    "(df_C['出站时间'].max() - df_A['进站时间'].min() )* 15 / 60 ## 小时"
   ]
  },
  {
   "cell_type": "code",
   "execution_count": null,
   "metadata": {},
   "outputs": [],
   "source": []
  },
  {
   "cell_type": "code",
   "execution_count": null,
   "metadata": {},
   "outputs": [],
   "source": []
  },
  {
   "cell_type": "code",
   "execution_count": null,
   "metadata": {},
   "outputs": [],
   "source": []
  }
 ],
 "metadata": {
  "kernelspec": {
   "display_name": "Python 3",
   "language": "python",
   "name": "python3"
  },
  "language_info": {
   "codemirror_mode": {
    "name": "ipython",
    "version": 3
   },
   "file_extension": ".py",
   "mimetype": "text/x-python",
   "name": "python",
   "nbconvert_exporter": "python",
   "pygments_lexer": "ipython3",
   "version": "3.6.4"
  }
 },
 "nbformat": 4,
 "nbformat_minor": 2
}
