{
 "cells": [
  {
   "cell_type": "code",
   "execution_count": 1,
   "metadata": {},
   "outputs": [],
   "source": [
    "import pandas as pd\n",
    "import numpy as np\n",
    "import datetime"
   ]
  },
  {
   "cell_type": "markdown",
   "metadata": {},
   "source": [
    "## 工序A"
   ]
  },
  {
   "cell_type": "code",
   "execution_count": 2,
   "metadata": {},
   "outputs": [],
   "source": [
    "df = pd.read_excel('附件一.xlsx')\n",
    "def transform_time(time):\n",
    "    hour = time.hour\n",
    "    minute = time.minute\n",
    "    return hour * 60 + minute\n",
    "df['数值型时间'] = df['到站时间'].apply(transform_time)\n",
    "\n",
    "time_car_dict = {}\n",
    "for time, car in zip(df['数值型时间'], df['动车类别']):\n",
    "    time_car_dict[time] = car\n",
    "    \n",
    "#time_car_dict = {0: 'CRH2',\n",
    "#                31: 'CRH5',\n",
    "#                66: 'CRH2',\n",
    "#                104: 'CRH6',\n",
    "#                125: 'CRH3',\n",
    "#                166: 'CRH6',\n",
    "#                195: 'CRH2',\n",
    "#                223: 'CRH5',\n",
    "#                225: 'CRH3',\n",
    "#                251: 'CRH3',\n",
    "#                293: 'CRH6'}\n",
    "    \n",
    "car_cost_A = {'CRH2': 60, \"CRH3\": 48 , \"CRH5\": 78 , \"CRH6\" : 60}\n",
    "\n",
    "is_finish_A = np.zeros(shape = (len(df) ), dtype = int) # 记录所有动车的A工艺完成状态，1为已完成，0为未完成\n",
    "\n",
    "m = len(df)"
   ]
  },
  {
   "cell_type": "code",
   "execution_count": 3,
   "metadata": {},
   "outputs": [],
   "source": [
    "is_work_A = np.zeros(shape = (24*60 , 3), dtype = int)  ## 记录车间 [a1 ; a2 ; a3] 三个车间每分钟的工作状态。1为工作，0为空闲\n",
    "\n",
    "input_time_record = []   ## 记录每个动车开始工序A的时间\n",
    "finish_time_record = []  ## 记录每个动车完成工序A的时间\n",
    "car_type_record = []     ## 按顺序记录每次检修动车类别\n",
    "workshop_ind_record = [] ## 按顺序记录每次检修动车的车间\n",
    "\n",
    "car_id = 0\n",
    "\n",
    "for minute in range(len(is_work_A)):\n",
    "    num_work_A = is_work_A[minute].sum()  ## 当前时间车间A的运作数量\n",
    "    num_finish_A = is_finish_A.sum() ## 已经发出的机车数量\n",
    "    if num_work_A == 0 and num_finish_A == m: ## 工艺完成\n",
    "        break\n",
    "    else:\n",
    "        if num_work_A < 3 and minute in time_car_dict :## 有空闲车间 且 有新车进\n",
    "            car_type = time_car_dict[minute]\n",
    "            cost_time = car_cost_A[car_type]\n",
    "            free_id = np.where(is_work_A[minute] == 0)[0][0]\n",
    "            is_work_A[minute: minute + cost_time, free_id] = 1\n",
    "            is_finish_A[car_id] = 1\n",
    "            car_id += 1\n",
    "            #print(car_id, minute + 1, car_type,free_id, cost_time )\n",
    "            finish_time_record.append(minute + cost_time)\n",
    "            car_type_record.append(car_type)\n",
    "            input_time_record.append(minute)\n",
    "            workshop_ind_record.append(free_id)\n",
    "        \n",
    "        if num_work_A == 3 and minute in time_car_dict :## 无空闲车间 且 有新车进，则推迟新车进来\n",
    "            car_type = time_car_dict[minute]\n",
    "            \n",
    "            for k in range(10000):\n",
    "                if minute + k not in time_car_dict:\n",
    "                    time_car_dict[minute + k] = car_type\n",
    "                    break\n",
    "            \n",
    "            \n",
    "df_A = pd.DataFrame({'动车类别':car_type_record, \n",
    "                  '进站时间': input_time_record,\n",
    "                  '出站时间': finish_time_record,\n",
    "                  '检测车间编号':workshop_ind_record})\n",
    "\n",
    "df_A = df_A[['动车类别','进站时间', '出站时间','检测车间编号']]\n",
    "\n",
    "df_A['检测耗时(分钟)'] = df_A['出站时间'] - df_A['进站时间']\n",
    "\n",
    "df_A['检测车间编号(展示)'] = df_A['检测车间编号'] + 1\n",
    "#df_A.to_csv('render.csv', encoding = 'gbk' , index = None)   "
   ]
  },
  {
   "cell_type": "code",
   "execution_count": null,
   "metadata": {},
   "outputs": [],
   "source": []
  },
  {
   "cell_type": "code",
   "execution_count": null,
   "metadata": {},
   "outputs": [],
   "source": []
  },
  {
   "cell_type": "markdown",
   "metadata": {},
   "source": [
    "## 工序B"
   ]
  },
  {
   "cell_type": "code",
   "execution_count": 4,
   "metadata": {},
   "outputs": [],
   "source": [
    "## 工序A的出战时间为工序B的进站时间\n",
    "df = df_A[['动车类别', '出站时间']]\n",
    "df.columns = ['动车类别','工序b进站时间']\n"
   ]
  },
  {
   "cell_type": "code",
   "execution_count": 5,
   "metadata": {},
   "outputs": [],
   "source": [
    "time_car_dict = {}\n",
    "for time, car in zip(df['工序b进站时间'], df['动车类别']):\n",
    "    time_car_dict[time] = car\n",
    "    \n",
    "car_cost_B = {'CRH2': 120, \"CRH3\": 144 , \"CRH5\": 150 , \"CRH6\" : 162}\n",
    "\n",
    "is_finish_B = np.zeros(shape = (len(df) ), dtype = int) # 记录所有动车的B工艺完成状态，1为已完成，0为未完成\n",
    "\n",
    "m = len(df)"
   ]
  },
  {
   "cell_type": "code",
   "execution_count": 6,
   "metadata": {},
   "outputs": [],
   "source": [
    "is_work_B = np.zeros(shape = (24*60 , 8 ), dtype = int)  ## 记录车间 [b1,b2,...,b8] 8个车间每分钟的工作状态。1为工作，0为空闲\n",
    "\n",
    "input_time_record = []   ## 记录每个动车开始工序B的时间\n",
    "finish_time_record = []  ## 记录每个动车完成工序B的时间\n",
    "car_type_record = []     ## 按顺序记录每次检修动车类别\n",
    "workshop_ind_record = [] ## 按顺序记录每次检修动车的车间\n",
    "\n",
    "car_id = 0\n",
    "\n",
    "for minute in range(len(is_work_B)):\n",
    "    num_work_B = is_work_B[minute].sum()  ## 当前时间车间B的运作数量\n",
    "    num_finish_B = is_finish_B.sum()      ## 已经发出的机车数量\n",
    "    if num_work_B == 0 and num_finish_B == m: ## 工艺完成, 则停止\n",
    "        break\n",
    "    else:\n",
    "        if num_work_B < 8 and minute in time_car_dict :## 有空闲车间 且 有新车进\n",
    "            car_type = time_car_dict[minute]\n",
    "            cost_time = car_cost_B[car_type]\n",
    "            free_id = np.where(is_work_B[minute] == 0)[0][0]\n",
    "            is_work_B[minute: minute + cost_time, free_id] = 1\n",
    "            is_finish_B[car_id] = 1\n",
    "            car_id += 1\n",
    "            #print(car_id, minute + 1, car_type,free_id, cost_time )\n",
    "            finish_time_record.append(minute + cost_time)\n",
    "            car_type_record.append(car_type)\n",
    "            input_time_record.append(minute)\n",
    "            workshop_ind_record.append(free_id)\n",
    "        \n",
    "        if num_work_B == 8 and minute in time_car_dict :## 无空闲车间 且 有新车进，则推迟新车进来\n",
    "            car_type = time_car_dict[minute]\n",
    "            \n",
    "            for k in range(10000):\n",
    "                if minute + k not in time_car_dict:\n",
    "                    time_car_dict[minute + k] = car_type\n",
    "                    break\n",
    "            "
   ]
  },
  {
   "cell_type": "code",
   "execution_count": 7,
   "metadata": {},
   "outputs": [],
   "source": [
    "df_B = pd.DataFrame({'动车类别':car_type_record, \n",
    "                  '进站时间': input_time_record,\n",
    "                  '出站时间': finish_time_record,\n",
    "                  '检测车间编号':workshop_ind_record})\n",
    "\n",
    "df_B = df_B[['动车类别','进站时间', '出站时间','检测车间编号']]\n",
    "\n",
    "df_B['检测耗时(分钟)'] = df_B['出站时间'] - df_B['进站时间']\n",
    "\n",
    "df_B['检测车间编号(展示)'] = df_B['检测车间编号'] + 1\n",
    "df_B.to_csv('render.csv', encoding = 'gbk' , index = None)"
   ]
  },
  {
   "cell_type": "markdown",
   "metadata": {},
   "source": [
    "## 工序C"
   ]
  },
  {
   "cell_type": "code",
   "execution_count": 8,
   "metadata": {},
   "outputs": [],
   "source": [
    "## 工序B的出战时间为工序C的进站时间\n",
    "df = df_B[['动车类别', '出站时间']]\n",
    "df.columns = ['动车类别','工序c进站时间']\n"
   ]
  },
  {
   "cell_type": "code",
   "execution_count": 9,
   "metadata": {},
   "outputs": [],
   "source": [
    "time_car_dict = {}\n",
    "for time, car in zip(df['工序c进站时间'], df['动车类别']):\n",
    "    time_car_dict[time] = car\n",
    "    \n",
    "car_cost_C = {'CRH2': 90, \"CRH3\": 30 , \"CRH5\": 90 , \"CRH6\" : 18}\n",
    "\n",
    "is_finish_C = np.zeros(shape = (len(df) ), dtype = int) # 记录所有动车的C工艺完成状态，1为已完成，0为未完成\n",
    "\n",
    "m = len(df)"
   ]
  },
  {
   "cell_type": "code",
   "execution_count": 10,
   "metadata": {},
   "outputs": [],
   "source": [
    "is_work_C = np.zeros(shape = (24*60 , 5 ), dtype = int)  ## 记录车间 [b1,b2,...,b8] 8个车间每分钟的工作状态。1为工作，0为空闲\n",
    "\n",
    "input_time_record = []   ## 记录每个动车开始工序B的时间\n",
    "finish_time_record = []  ## 记录每个动车完成工序B的时间\n",
    "car_type_record = []     ## 按顺序记录每次检修动车类别\n",
    "workshop_ind_record = [] ## 按顺序记录每次检修动车的车间\n",
    "\n",
    "car_id = 0\n",
    "\n",
    "for minute in range(len(is_work_C)):\n",
    "    num_work_C = is_work_C[minute].sum()  ## 当前时间车间B的运作数量\n",
    "    num_finish_C = is_finish_C.sum()      ## 已经发出的机车数量\n",
    "    if num_work_C == 0 and num_finish_C == m: ## 工艺完成, 则停止\n",
    "        break\n",
    "    else:\n",
    "        if num_work_C < 5 and minute in time_car_dict :## 有空闲车间 且 有新车进\n",
    "            car_type = time_car_dict[minute]\n",
    "            cost_time = car_cost_C[car_type]\n",
    "            free_id = np.where(is_work_C[minute] == 0)[0][0]\n",
    "            is_work_C[minute: minute + cost_time, free_id] = 1\n",
    "            is_finish_C[car_id] = 1\n",
    "            car_id += 1\n",
    "            #print(car_id, minute + 1, car_type,free_id, cost_time )\n",
    "            finish_time_record.append(minute + cost_time)\n",
    "            car_type_record.append(car_type)\n",
    "            input_time_record.append(minute)\n",
    "            workshop_ind_record.append(free_id)\n",
    "        \n",
    "        if num_work_C == 5 and minute in time_car_dict :## 无空闲车间 且 有新车进，则推迟新车进来\n",
    "            car_type = time_car_dict[minute]\n",
    "            \n",
    "            for k in range(10000):\n",
    "                if minute + k not in time_car_dict:\n",
    "                    time_car_dict[minute + k] = car_type\n",
    "                    break\n",
    "            "
   ]
  },
  {
   "cell_type": "code",
   "execution_count": 11,
   "metadata": {},
   "outputs": [],
   "source": [
    "df_C = pd.DataFrame({'动车类别':car_type_record, \n",
    "                  '进站时间': input_time_record,\n",
    "                  '出站时间': finish_time_record,\n",
    "                  '检测车间编号':workshop_ind_record})\n",
    "\n",
    "df_C = df_C[['动车类别','进站时间', '出站时间','检测车间编号']]\n",
    "\n",
    "df_C['检测耗时(分钟)'] = df_C['出站时间'] - df_C['进站时间']\n",
    "\n",
    "df_C['检测车间编号(展示)'] = df_C['检测车间编号'] + 1\n",
    "df_C.to_csv('render.csv', encoding = 'gbk' , index = None)"
   ]
  },
  {
   "cell_type": "code",
   "execution_count": null,
   "metadata": {},
   "outputs": [],
   "source": []
  },
  {
   "cell_type": "markdown",
   "metadata": {},
   "source": [
    "### 计算总耗时"
   ]
  },
  {
   "cell_type": "code",
   "execution_count": 12,
   "metadata": {},
   "outputs": [
    {
     "data": {
      "text/plain": [
       "9.016666666666667"
      ]
     },
     "execution_count": 12,
     "metadata": {},
     "output_type": "execute_result"
    }
   ],
   "source": [
    "(df_C['出站时间'].max() - df_A['进站时间'].min() ) / 60 ## 小时"
   ]
  },
  {
   "cell_type": "code",
   "execution_count": null,
   "metadata": {},
   "outputs": [],
   "source": []
  },
  {
   "cell_type": "code",
   "execution_count": null,
   "metadata": {},
   "outputs": [],
   "source": []
  },
  {
   "cell_type": "code",
   "execution_count": null,
   "metadata": {},
   "outputs": [],
   "source": []
  },
  {
   "cell_type": "code",
   "execution_count": null,
   "metadata": {},
   "outputs": [],
   "source": []
  },
  {
   "cell_type": "code",
   "execution_count": null,
   "metadata": {},
   "outputs": [],
   "source": []
  }
 ],
 "metadata": {
  "kernelspec": {
   "display_name": "Python 3",
   "language": "python",
   "name": "python3"
  },
  "language_info": {
   "codemirror_mode": {
    "name": "ipython",
    "version": 3
   },
   "file_extension": ".py",
   "mimetype": "text/x-python",
   "name": "python",
   "nbconvert_exporter": "python",
   "pygments_lexer": "ipython3",
   "version": "3.6.4"
  }
 },
 "nbformat": 4,
 "nbformat_minor": 2
}
